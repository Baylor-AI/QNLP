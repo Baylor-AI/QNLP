{
 "cells": [
  {
   "cell_type": "markdown",
   "metadata": {},
   "source": [
    "# Installation \n",
    "## By: Javier Orduz"
   ]
  },
  {
   "cell_type": "markdown",
   "metadata": {},
   "source": [
    "This NB shows some package for QNLP, advices and comments."
   ]
  },
  {
   "cell_type": "code",
   "execution_count": 1,
   "metadata": {},
   "outputs": [
    {
     "name": "stdout",
     "output_type": "stream",
     "text": [
      "Requirement already satisfied: lambeq in c:\\users\\javier_orduzducuara\\anaconda3\\lib\\site-packages (0.2.0)\n",
      "Requirement already satisfied: torch>=1.10.1 in c:\\users\\javier_orduzducuara\\anaconda3\\lib\\site-packages (from lambeq) (1.11.0)\n",
      "Requirement already satisfied: transformers in c:\\users\\javier_orduzducuara\\anaconda3\\lib\\site-packages (from lambeq) (4.17.0)\n",
      "Requirement already satisfied: discopy>=0.4.1 in c:\\users\\javier_orduzducuara\\anaconda3\\lib\\site-packages (from lambeq) (0.4.1)\n",
      "Requirement already satisfied: spacy>=3.0 in c:\\users\\javier_orduzducuara\\anaconda3\\lib\\site-packages (from lambeq) (3.2.4)\n",
      "Requirement already satisfied: pytket>=0.19.2 in c:\\users\\javier_orduzducuara\\anaconda3\\lib\\site-packages (from lambeq) (1.0.1)\n",
      "Requirement already satisfied: pyyaml in c:\\users\\javier_orduzducuara\\anaconda3\\lib\\site-packages (from lambeq) (5.3.1)\n",
      "Requirement already satisfied: tensornetwork in c:\\users\\javier_orduzducuara\\anaconda3\\lib\\site-packages (from lambeq) (0.3.0)\n",
      "Requirement already satisfied: typing-extensions in c:\\users\\javier_orduzducuara\\anaconda3\\lib\\site-packages (from torch>=1.10.1->lambeq) (3.7.4.3)\n",
      "Requirement already satisfied: requests in c:\\users\\javier_orduzducuara\\anaconda3\\lib\\site-packages (from transformers->lambeq) (2.24.0)\n",
      "Requirement already satisfied: tqdm>=4.27 in c:\\users\\javier_orduzducuara\\anaconda3\\lib\\site-packages (from transformers->lambeq) (4.50.2)\n",
      "Requirement already satisfied: tokenizers!=0.11.3,>=0.11.1 in c:\\users\\javier_orduzducuara\\anaconda3\\lib\\site-packages (from transformers->lambeq) (0.11.6)\n",
      "Requirement already satisfied: sacremoses in c:\\users\\javier_orduzducuara\\anaconda3\\lib\\site-packages (from transformers->lambeq) (0.0.49)\n",
      "Requirement already satisfied: regex!=2019.12.17 in c:\\users\\javier_orduzducuara\\anaconda3\\lib\\site-packages (from transformers->lambeq) (2020.10.15)\n",
      "Requirement already satisfied: filelock in c:\\users\\javier_orduzducuara\\anaconda3\\lib\\site-packages (from transformers->lambeq) (3.0.12)\n",
      "Requirement already satisfied: numpy>=1.17 in c:\\users\\javier_orduzducuara\\anaconda3\\lib\\site-packages (from transformers->lambeq) (1.19.2)\n",
      "Requirement already satisfied: packaging>=20.0 in c:\\users\\javier_orduzducuara\\anaconda3\\lib\\site-packages (from transformers->lambeq) (20.4)\n",
      "Requirement already satisfied: huggingface-hub<1.0,>=0.1.0 in c:\\users\\javier_orduzducuara\\anaconda3\\lib\\site-packages (from transformers->lambeq) (0.4.0)\n",
      "Requirement already satisfied: pillow>=6.2.1 in c:\\users\\javier_orduzducuara\\anaconda3\\lib\\site-packages (from discopy>=0.4.1->lambeq) (8.0.1)\n",
      "Requirement already satisfied: matplotlib>=3.1.2 in c:\\users\\javier_orduzducuara\\anaconda3\\lib\\site-packages (from discopy>=0.4.1->lambeq) (3.3.2)\n",
      "Requirement already satisfied: networkx>=2.4 in c:\\users\\javier_orduzducuara\\anaconda3\\lib\\site-packages (from discopy>=0.4.1->lambeq) (2.5)\n",
      "Requirement already satisfied: setuptools in c:\\users\\javier_orduzducuara\\anaconda3\\lib\\site-packages (from spacy>=3.0->lambeq) (50.3.1.post20201107)\n",
      "Requirement already satisfied: pathy>=0.3.5 in c:\\users\\javier_orduzducuara\\anaconda3\\lib\\site-packages (from spacy>=3.0->lambeq) (0.6.1)\n",
      "Requirement already satisfied: preshed<3.1.0,>=3.0.2 in c:\\users\\javier_orduzducuara\\anaconda3\\lib\\site-packages (from spacy>=3.0->lambeq) (3.0.6)\n",
      "Requirement already satisfied: cymem<2.1.0,>=2.0.2 in c:\\users\\javier_orduzducuara\\anaconda3\\lib\\site-packages (from spacy>=3.0->lambeq) (2.0.6)\n",
      "Requirement already satisfied: spacy-legacy<3.1.0,>=3.0.8 in c:\\users\\javier_orduzducuara\\anaconda3\\lib\\site-packages (from spacy>=3.0->lambeq) (3.0.9)\n",
      "Requirement already satisfied: catalogue<2.1.0,>=2.0.6 in c:\\users\\javier_orduzducuara\\anaconda3\\lib\\site-packages (from spacy>=3.0->lambeq) (2.0.7)\n",
      "Requirement already satisfied: murmurhash<1.1.0,>=0.28.0 in c:\\users\\javier_orduzducuara\\anaconda3\\lib\\site-packages (from spacy>=3.0->lambeq) (1.0.6)\n",
      "Requirement already satisfied: langcodes<4.0.0,>=3.2.0 in c:\\users\\javier_orduzducuara\\anaconda3\\lib\\site-packages (from spacy>=3.0->lambeq) (3.3.0)\n",
      "Requirement already satisfied: blis<0.8.0,>=0.4.0 in c:\\users\\javier_orduzducuara\\anaconda3\\lib\\site-packages (from spacy>=3.0->lambeq) (0.7.7)\n",
      "Requirement already satisfied: jinja2 in c:\\users\\javier_orduzducuara\\anaconda3\\lib\\site-packages (from spacy>=3.0->lambeq) (2.11.2)\n",
      "Requirement already satisfied: spacy-loggers<2.0.0,>=1.0.0 in c:\\users\\javier_orduzducuara\\anaconda3\\lib\\site-packages (from spacy>=3.0->lambeq) (1.0.2)\n",
      "Requirement already satisfied: wasabi<1.1.0,>=0.8.1 in c:\\users\\javier_orduzducuara\\anaconda3\\lib\\site-packages (from spacy>=3.0->lambeq) (0.9.1)\n",
      "Requirement already satisfied: thinc<8.1.0,>=8.0.12 in c:\\users\\javier_orduzducuara\\anaconda3\\lib\\site-packages (from spacy>=3.0->lambeq) (8.0.15)\n",
      "Requirement already satisfied: pydantic!=1.8,!=1.8.1,<1.9.0,>=1.7.4 in c:\\users\\javier_orduzducuara\\anaconda3\\lib\\site-packages (from spacy>=3.0->lambeq) (1.8.2)\n",
      "Requirement already satisfied: typer<0.5.0,>=0.3.0 in c:\\users\\javier_orduzducuara\\anaconda3\\lib\\site-packages (from spacy>=3.0->lambeq) (0.4.1)\n",
      "Requirement already satisfied: click<8.1.0 in c:\\users\\javier_orduzducuara\\anaconda3\\lib\\site-packages (from spacy>=3.0->lambeq) (7.1.2)\n",
      "Requirement already satisfied: srsly<3.0.0,>=2.4.1 in c:\\users\\javier_orduzducuara\\anaconda3\\lib\\site-packages (from spacy>=3.0->lambeq) (2.4.2)\n",
      "Requirement already satisfied: graphviz~=0.14 in c:\\users\\javier_orduzducuara\\anaconda3\\lib\\site-packages (from pytket>=0.19.2->lambeq) (0.16)\n",
      "Requirement already satisfied: sympy~=1.6 in c:\\users\\javier_orduzducuara\\anaconda3\\lib\\site-packages (from pytket>=0.19.2->lambeq) (1.6.2)\n",
      "Collecting scipy<2.0,>=1.7.2\n",
      "  Downloading scipy-1.8.0-cp38-cp38-win_amd64.whl (36.9 MB)\n",
      "Requirement already satisfied: lark-parser~=0.7 in c:\\users\\javier_orduzducuara\\anaconda3\\lib\\site-packages (from pytket>=0.19.2->lambeq) (0.12.0)\n",
      "Requirement already satisfied: types-pkg-resources in c:\\users\\javier_orduzducuara\\anaconda3\\lib\\site-packages (from pytket>=0.19.2->lambeq) (0.1.3)\n",
      "Requirement already satisfied: h5py>=2.9.0 in c:\\users\\javier_orduzducuara\\anaconda3\\lib\\site-packages (from tensornetwork->lambeq) (2.10.0)\n",
      "Requirement already satisfied: opt-einsum>=2.3.0 in c:\\users\\javier_orduzducuara\\anaconda3\\lib\\site-packages (from tensornetwork->lambeq) (3.3.0)\n",
      "Requirement already satisfied: chardet<4,>=3.0.2 in c:\\users\\javier_orduzducuara\\anaconda3\\lib\\site-packages (from requests->transformers->lambeq) (3.0.4)\n",
      "Requirement already satisfied: certifi>=2017.4.17 in c:\\users\\javier_orduzducuara\\anaconda3\\lib\\site-packages (from requests->transformers->lambeq) (2020.6.20)\n",
      "Requirement already satisfied: idna<3,>=2.5 in c:\\users\\javier_orduzducuara\\anaconda3\\lib\\site-packages (from requests->transformers->lambeq) (2.10)\n",
      "Requirement already satisfied: urllib3!=1.25.0,!=1.25.1,<1.26,>=1.21.1 in c:\\users\\javier_orduzducuara\\anaconda3\\lib\\site-packages (from requests->transformers->lambeq) (1.25.11)\n",
      "Requirement already satisfied: joblib in c:\\users\\javier_orduzducuara\\anaconda3\\lib\\site-packages (from sacremoses->transformers->lambeq) (0.17.0)\n",
      "Requirement already satisfied: six in c:\\users\\javier_orduzducuara\\anaconda3\\lib\\site-packages (from sacremoses->transformers->lambeq) (1.15.0)\n",
      "Requirement already satisfied: pyparsing>=2.0.2 in c:\\users\\javier_orduzducuara\\anaconda3\\lib\\site-packages (from packaging>=20.0->transformers->lambeq) (2.4.7)\n",
      "Requirement already satisfied: cycler>=0.10 in c:\\users\\javier_orduzducuara\\anaconda3\\lib\\site-packages (from matplotlib>=3.1.2->discopy>=0.4.1->lambeq) (0.10.0)\n",
      "Requirement already satisfied: python-dateutil>=2.1 in c:\\users\\javier_orduzducuara\\anaconda3\\lib\\site-packages (from matplotlib>=3.1.2->discopy>=0.4.1->lambeq) (2.8.1)\n",
      "Requirement already satisfied: kiwisolver>=1.0.1 in c:\\users\\javier_orduzducuara\\anaconda3\\lib\\site-packages (from matplotlib>=3.1.2->discopy>=0.4.1->lambeq) (1.3.0)\n",
      "Requirement already satisfied: decorator>=4.3.0 in c:\\users\\javier_orduzducuara\\anaconda3\\lib\\site-packages (from networkx>=2.4->discopy>=0.4.1->lambeq) (4.4.2)\n",
      "Requirement already satisfied: smart-open<6.0.0,>=5.0.0 in c:\\users\\javier_orduzducuara\\anaconda3\\lib\\site-packages (from pathy>=0.3.5->spacy>=3.0->lambeq) (5.2.1)\n",
      "Requirement already satisfied: MarkupSafe>=0.23 in c:\\users\\javier_orduzducuara\\anaconda3\\lib\\site-packages (from jinja2->spacy>=3.0->lambeq) (1.1.1)\n",
      "Requirement already satisfied: mpmath>=0.19 in c:\\users\\javier_orduzducuara\\anaconda3\\lib\\site-packages (from sympy~=1.6->pytket>=0.19.2->lambeq) (1.1.0)\n",
      "Installing collected packages: scipy\n",
      "  Attempting uninstall: scipy\n",
      "    Found existing installation: scipy 1.5.2\n",
      "    Uninstalling scipy-1.5.2:\n",
      "      Successfully uninstalled scipy-1.5.2\n",
      "Successfully installed scipy-1.8.0\n"
     ]
    },
    {
     "name": "stderr",
     "output_type": "stream",
     "text": [
      "ERROR: After October 2020 you may experience errors when installing or updating packages. This is because pip will change the way that it resolves dependency conflicts.\n",
      "\n",
      "We recommend you use --use-feature=2020-resolver to test your packages with the new resolver before it becomes the default.\n",
      "\n",
      "pytket 1.0.1 requires jinja2~=3.0, but you'll have jinja2 2.11.2 which is incompatible.\n",
      "pytket 1.0.1 requires numpy<2.0,>=1.21.4, but you'll have numpy 1.19.2 which is incompatible.\n"
     ]
    }
   ],
   "source": [
    "!pip install lambeq"
   ]
  },
  {
   "cell_type": "code",
   "execution_count": 2,
   "metadata": {},
   "outputs": [
    {
     "name": "stdout",
     "output_type": "stream",
     "text": [
      "Requirement already satisfied: lambeq[extras] in c:\\users\\javier_orduzducuara\\anaconda3\\lib\\site-packages (0.2.0)\n",
      "Requirement already satisfied: spacy>=3.0 in c:\\users\\javier_orduzducuara\\anaconda3\\lib\\site-packages (from lambeq[extras]) (3.2.4)\n",
      "Requirement already satisfied: transformers in c:\\users\\javier_orduzducuara\\anaconda3\\lib\\site-packages (from lambeq[extras]) (4.17.0)\n",
      "Requirement already satisfied: discopy>=0.4.1 in c:\\users\\javier_orduzducuara\\anaconda3\\lib\\site-packages (from lambeq[extras]) (0.4.1)\n",
      "Requirement already satisfied: pyyaml in c:\\users\\javier_orduzducuara\\anaconda3\\lib\\site-packages (from lambeq[extras]) (5.3.1)\n",
      "Requirement already satisfied: pytket>=0.19.2 in c:\\users\\javier_orduzducuara\\anaconda3\\lib\\site-packages (from lambeq[extras]) (1.0.1)\n",
      "Requirement already satisfied: tensornetwork in c:\\users\\javier_orduzducuara\\anaconda3\\lib\\site-packages (from lambeq[extras]) (0.3.0)\n",
      "Requirement already satisfied: torch>=1.10.1 in c:\\users\\javier_orduzducuara\\anaconda3\\lib\\site-packages (from lambeq[extras]) (1.11.0)\n"
     ]
    },
    {
     "name": "stderr",
     "output_type": "stream",
     "text": [
      "ERROR: Could not find a version that satisfies the requirement jaxlib; extra == \"extras\" (from lambeq[extras]) (from versions: none)\n",
      "ERROR: No matching distribution found for jaxlib; extra == \"extras\" (from lambeq[extras])\n"
     ]
    }
   ],
   "source": [
    "!pip install lambeq[extras]"
   ]
  },
  {
   "cell_type": "code",
   "execution_count": 3,
   "metadata": {},
   "outputs": [
    {
     "name": "stdout",
     "output_type": "stream",
     "text": [
      "Requirement already satisfied: cython in c:\\users\\javier_orduzducuara\\anaconda3\\lib\\site-packages (0.29.21)\n",
      "Requirement already satisfied: numpy in c:\\users\\javier_orduzducuara\\anaconda3\\lib\\site-packages (1.19.2)\n",
      "Collecting depccg\n",
      "  Using cached depccg-2.0.3.2.tar.gz (3.5 MB)\n"
     ]
    },
    {
     "name": "stderr",
     "output_type": "stream",
     "text": [
      "    ERROR: Command errored out with exit status 1:\n",
      "     command: 'C:\\Users\\Javier_OrduzDucuara\\Anaconda3\\python.exe' -c 'import sys, setuptools, tokenize; sys.argv[0] = '\"'\"'C:\\\\Users\\\\Javier_OrduzDucuara\\\\AppData\\\\Local\\\\Temp\\\\pip-install-2b_3ra5_\\\\depccg\\\\setup.py'\"'\"'; __file__='\"'\"'C:\\\\Users\\\\Javier_OrduzDucuara\\\\AppData\\\\Local\\\\Temp\\\\pip-install-2b_3ra5_\\\\depccg\\\\setup.py'\"'\"';f=getattr(tokenize, '\"'\"'open'\"'\"', open)(__file__);code=f.read().replace('\"'\"'\\r\\n'\"'\"', '\"'\"'\\n'\"'\"');f.close();exec(compile(code, __file__, '\"'\"'exec'\"'\"'))' egg_info --egg-base 'C:\\Users\\Javier_OrduzDucuara\\AppData\\Local\\Temp\\pip-pip-egg-info-x85apk5u'\n",
      "         cwd: C:\\Users\\Javier_OrduzDucuara\\AppData\\Local\\Temp\\pip-install-2b_3ra5_\\depccg\\\n",
      "    Complete output (10 lines):\n",
      "    cc -g -fpic -Wall -O3 -c -MMD -MP morpha.c\n",
      "    make: cc: Command not found\n",
      "    make: *** [morpha.o] Error 127\n",
      "    Traceback (most recent call last):\n",
      "      File \"<string>\", line 1, in <module>\n",
      "      File \"C:\\Users\\Javier_OrduzDucuara\\AppData\\Local\\Temp\\pip-install-2b_3ra5_\\depccg\\setup.py\", line 105, in <module>\n",
      "        generate_cpp([])\n",
      "      File \"C:\\Users\\Javier_OrduzDucuara\\AppData\\Local\\Temp\\pip-install-2b_3ra5_\\depccg\\setup.py\", line 64, in generate_cpp\n",
      "        raise RuntimeError('Running cythonize failed')\n",
      "    RuntimeError: Running cythonize failed\n",
      "    ----------------------------------------\n",
      "ERROR: Command errored out with exit status 1: python setup.py egg_info Check the logs for full command output.\n"
     ]
    }
   ],
   "source": [
    "!pip install cython numpy depccg"
   ]
  },
  {
   "cell_type": "markdown",
   "metadata": {},
   "source": [
    "I am not sure it next cell works "
   ]
  },
  {
   "cell_type": "code",
   "execution_count": 4,
   "metadata": {},
   "outputs": [
    {
     "name": "stdout",
     "output_type": "stream",
     "text": [
      "Collecting discopy==0.1.3\n",
      "  Using cached discopy-0.1.3.tar.gz (21 kB)\n",
      "Requirement already satisfied: numpy in c:\\users\\javier_orduzducuara\\anaconda3\\lib\\site-packages (from discopy==0.1.3) (1.19.2)\n",
      "Requirement already satisfied: pytket in c:\\users\\javier_orduzducuara\\anaconda3\\lib\\site-packages (from discopy==0.1.3) (1.0.1)\n",
      "Collecting jax\n",
      "  Using cached jax-0.3.4.tar.gz (924 kB)\n"
     ]
    },
    {
     "name": "stderr",
     "output_type": "stream",
     "text": [
      "ERROR: Could not find a version that satisfies the requirement jaxlib (from discopy==0.1.3) (from versions: none)\n",
      "ERROR: No matching distribution found for jaxlib (from discopy==0.1.3)\n"
     ]
    }
   ],
   "source": [
    "!pip install discopy==0.1.3"
   ]
  }
 ],
 "metadata": {
  "interpreter": {
   "hash": "7c32c5fc060a5d969a9e6984a425ac506ea058eb5394817798833a898b6d3b9a"
  },
  "kernelspec": {
   "display_name": "Python 3.8.5 ('base')",
   "language": "python",
   "name": "python3"
  },
  "language_info": {
   "codemirror_mode": {
    "name": "ipython",
    "version": 3
   },
   "file_extension": ".py",
   "mimetype": "text/x-python",
   "name": "python",
   "nbconvert_exporter": "python",
   "pygments_lexer": "ipython3",
   "version": "3.8.5"
  },
  "orig_nbformat": 4
 },
 "nbformat": 4,
 "nbformat_minor": 2
}
