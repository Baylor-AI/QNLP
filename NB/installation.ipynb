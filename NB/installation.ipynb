{
 "cells": [
  {
   "cell_type": "code",
   "execution_count": 1,
   "metadata": {},
   "outputs": [
    {
     "name": "stdout",
     "output_type": "stream",
     "text": [
      "Collecting lambeq\n",
      "  Downloading lambeq-0.2.0-py3-none-any.whl (117 kB)\n",
      "Collecting spacy>=3.0\n",
      "  Downloading spacy-3.2.4-cp38-cp38-win_amd64.whl (11.6 MB)\n",
      "Requirement already satisfied: pyyaml in c:\\users\\javier_orduzducuara\\anaconda3\\lib\\site-packages (from lambeq) (5.3.1)\n",
      "Requirement already satisfied: tensornetwork in c:\\users\\javier_orduzducuara\\anaconda3\\lib\\site-packages (from lambeq) (0.3.0)\n",
      "Collecting torch>=1.10.1\n",
      "  Downloading torch-1.11.0-cp38-cp38-win_amd64.whl (158.0 MB)\n",
      "Collecting transformers\n",
      "  Downloading transformers-4.17.0-py3-none-any.whl (3.8 MB)\n",
      "Collecting pytket>=0.19.2\n",
      "  Downloading pytket-1.0.1-cp38-cp38-win_amd64.whl (9.2 MB)\n",
      "Collecting discopy>=0.4.1\n",
      "  Downloading discopy-0.4.1.tar.gz (107 kB)\n",
      "Collecting langcodes<4.0.0,>=3.2.0\n",
      "  Downloading langcodes-3.3.0-py3-none-any.whl (181 kB)\n",
      "Collecting srsly<3.0.0,>=2.4.1\n",
      "  Downloading srsly-2.4.2-cp38-cp38-win_amd64.whl (452 kB)\n",
      "Collecting wasabi<1.1.0,>=0.8.1\n",
      "  Downloading wasabi-0.9.1-py3-none-any.whl (26 kB)\n",
      "Requirement already satisfied: packaging>=20.0 in c:\\users\\javier_orduzducuara\\anaconda3\\lib\\site-packages (from spacy>=3.0->lambeq) (20.4)\n",
      "Collecting spacy-loggers<2.0.0,>=1.0.0\n",
      "  Downloading spacy_loggers-1.0.2-py3-none-any.whl (7.2 kB)\n",
      "Requirement already satisfied: requests<3.0.0,>=2.13.0 in c:\\users\\javier_orduzducuara\\anaconda3\\lib\\site-packages (from spacy>=3.0->lambeq) (2.24.0)\n",
      "Collecting murmurhash<1.1.0,>=0.28.0\n",
      "  Downloading murmurhash-1.0.6-cp38-cp38-win_amd64.whl (21 kB)\n",
      "Collecting blis<0.8.0,>=0.4.0\n",
      "  Downloading blis-0.7.7-cp38-cp38-win_amd64.whl (6.6 MB)\n",
      "Collecting typer<0.5.0,>=0.3.0\n",
      "  Downloading typer-0.4.1-py3-none-any.whl (27 kB)\n",
      "Collecting cymem<2.1.0,>=2.0.2\n",
      "  Downloading cymem-2.0.6-cp38-cp38-win_amd64.whl (36 kB)\n",
      "Collecting pydantic!=1.8,!=1.8.1,<1.9.0,>=1.7.4\n",
      "  Using cached pydantic-1.8.2-cp38-cp38-win_amd64.whl (2.0 MB)\n",
      "Collecting thinc<8.1.0,>=8.0.12\n",
      "  Downloading thinc-8.0.15-cp38-cp38-win_amd64.whl (1.0 MB)\n",
      "Requirement already satisfied: click<8.1.0 in c:\\users\\javier_orduzducuara\\anaconda3\\lib\\site-packages (from spacy>=3.0->lambeq) (7.1.2)\n",
      "Requirement already satisfied: tqdm<5.0.0,>=4.38.0 in c:\\users\\javier_orduzducuara\\anaconda3\\lib\\site-packages (from spacy>=3.0->lambeq) (4.50.2)\n",
      "Requirement already satisfied: numpy>=1.15.0 in c:\\users\\javier_orduzducuara\\anaconda3\\lib\\site-packages (from spacy>=3.0->lambeq) (1.19.2)\n",
      "Collecting catalogue<2.1.0,>=2.0.6\n",
      "  Downloading catalogue-2.0.7-py3-none-any.whl (17 kB)\n",
      "Collecting preshed<3.1.0,>=3.0.2\n",
      "  Downloading preshed-3.0.6-cp38-cp38-win_amd64.whl (113 kB)\n",
      "Collecting spacy-legacy<3.1.0,>=3.0.8\n",
      "  Downloading spacy_legacy-3.0.9-py2.py3-none-any.whl (20 kB)\n",
      "Collecting pathy>=0.3.5\n",
      "  Downloading pathy-0.6.1-py3-none-any.whl (42 kB)\n",
      "Requirement already satisfied: setuptools in c:\\users\\javier_orduzducuara\\anaconda3\\lib\\site-packages (from spacy>=3.0->lambeq) (50.3.1.post20201107)\n",
      "Requirement already satisfied: jinja2 in c:\\users\\javier_orduzducuara\\anaconda3\\lib\\site-packages (from spacy>=3.0->lambeq) (2.11.2)\n",
      "Requirement already satisfied: scipy>=1.1 in c:\\users\\javier_orduzducuara\\anaconda3\\lib\\site-packages (from tensornetwork->lambeq) (1.5.2)\n",
      "Requirement already satisfied: h5py>=2.9.0 in c:\\users\\javier_orduzducuara\\anaconda3\\lib\\site-packages (from tensornetwork->lambeq) (2.10.0)\n",
      "Requirement already satisfied: graphviz>=0.11.1 in c:\\users\\javier_orduzducuara\\anaconda3\\lib\\site-packages (from tensornetwork->lambeq) (0.16)\n",
      "Requirement already satisfied: opt-einsum>=2.3.0 in c:\\users\\javier_orduzducuara\\anaconda3\\lib\\site-packages (from tensornetwork->lambeq) (3.3.0)\n",
      "Requirement already satisfied: typing-extensions in c:\\users\\javier_orduzducuara\\anaconda3\\lib\\site-packages (from torch>=1.10.1->lambeq) (3.7.4.3)\n",
      "Requirement already satisfied: filelock in c:\\users\\javier_orduzducuara\\anaconda3\\lib\\site-packages (from transformers->lambeq) (3.0.12)\n",
      "Collecting sacremoses\n",
      "  Downloading sacremoses-0.0.49-py3-none-any.whl (895 kB)\n",
      "Requirement already satisfied: regex!=2019.12.17 in c:\\users\\javier_orduzducuara\\anaconda3\\lib\\site-packages (from transformers->lambeq) (2020.10.15)\n",
      "Collecting tokenizers!=0.11.3,>=0.11.1\n",
      "  Downloading tokenizers-0.11.6-cp38-cp38-win_amd64.whl (3.2 MB)\n",
      "Collecting huggingface-hub<1.0,>=0.1.0\n",
      "  Downloading huggingface_hub-0.4.0-py3-none-any.whl (67 kB)\n",
      "Requirement already satisfied: networkx~=2.4 in c:\\users\\javier_orduzducuara\\anaconda3\\lib\\site-packages (from pytket>=0.19.2->lambeq) (2.5)\n",
      "Collecting types-pkg-resources\n",
      "  Downloading types_pkg_resources-0.1.3-py2.py3-none-any.whl (4.8 kB)\n",
      "Requirement already satisfied: sympy~=1.6 in c:\\users\\javier_orduzducuara\\anaconda3\\lib\\site-packages (from pytket>=0.19.2->lambeq) (1.6.2)\n",
      "Collecting lark-parser~=0.7\n",
      "  Downloading lark_parser-0.12.0-py2.py3-none-any.whl (103 kB)\n",
      "Requirement already satisfied: matplotlib>=3.1.2 in c:\\users\\javier_orduzducuara\\anaconda3\\lib\\site-packages (from discopy>=0.4.1->lambeq) (3.3.2)\n",
      "Requirement already satisfied: pillow>=6.2.1 in c:\\users\\javier_orduzducuara\\anaconda3\\lib\\site-packages (from discopy>=0.4.1->lambeq) (8.0.1)\n",
      "Requirement already satisfied: pyparsing>=2.0.2 in c:\\users\\javier_orduzducuara\\anaconda3\\lib\\site-packages (from packaging>=20.0->spacy>=3.0->lambeq) (2.4.7)\n",
      "Requirement already satisfied: six in c:\\users\\javier_orduzducuara\\anaconda3\\lib\\site-packages (from packaging>=20.0->spacy>=3.0->lambeq) (1.15.0)\n",
      "Requirement already satisfied: idna<3,>=2.5 in c:\\users\\javier_orduzducuara\\anaconda3\\lib\\site-packages (from requests<3.0.0,>=2.13.0->spacy>=3.0->lambeq) (2.10)\n",
      "Requirement already satisfied: certifi>=2017.4.17 in c:\\users\\javier_orduzducuara\\anaconda3\\lib\\site-packages (from requests<3.0.0,>=2.13.0->spacy>=3.0->lambeq) (2020.6.20)\n",
      "Requirement already satisfied: chardet<4,>=3.0.2 in c:\\users\\javier_orduzducuara\\anaconda3\\lib\\site-packages (from requests<3.0.0,>=2.13.0->spacy>=3.0->lambeq) (3.0.4)\n",
      "Requirement already satisfied: urllib3!=1.25.0,!=1.25.1,<1.26,>=1.21.1 in c:\\users\\javier_orduzducuara\\anaconda3\\lib\\site-packages (from requests<3.0.0,>=2.13.0->spacy>=3.0->lambeq) (1.25.11)\n",
      "Collecting smart-open<6.0.0,>=5.0.0\n",
      "  Downloading smart_open-5.2.1-py3-none-any.whl (58 kB)\n",
      "Requirement already satisfied: MarkupSafe>=0.23 in c:\\users\\javier_orduzducuara\\anaconda3\\lib\\site-packages (from jinja2->spacy>=3.0->lambeq) (1.1.1)\n",
      "Requirement already satisfied: joblib in c:\\users\\javier_orduzducuara\\anaconda3\\lib\\site-packages (from sacremoses->transformers->lambeq) (0.17.0)\n",
      "Requirement already satisfied: decorator>=4.3.0 in c:\\users\\javier_orduzducuara\\anaconda3\\lib\\site-packages (from networkx~=2.4->pytket>=0.19.2->lambeq) (4.4.2)\n",
      "Requirement already satisfied: mpmath>=0.19 in c:\\users\\javier_orduzducuara\\anaconda3\\lib\\site-packages (from sympy~=1.6->pytket>=0.19.2->lambeq) (1.1.0)\n",
      "Requirement already satisfied: python-dateutil>=2.1 in c:\\users\\javier_orduzducuara\\anaconda3\\lib\\site-packages (from matplotlib>=3.1.2->discopy>=0.4.1->lambeq) (2.8.1)\n",
      "Requirement already satisfied: kiwisolver>=1.0.1 in c:\\users\\javier_orduzducuara\\anaconda3\\lib\\site-packages (from matplotlib>=3.1.2->discopy>=0.4.1->lambeq) (1.3.0)\n",
      "Requirement already satisfied: cycler>=0.10 in c:\\users\\javier_orduzducuara\\anaconda3\\lib\\site-packages (from matplotlib>=3.1.2->discopy>=0.4.1->lambeq) (0.10.0)\n",
      "Building wheels for collected packages: discopy\n",
      "  Building wheel for discopy (setup.py): started\n",
      "  Building wheel for discopy (setup.py): finished with status 'done'\n",
      "  Created wheel for discopy: filename=discopy-0.4.1-py3-none-any.whl size=96828 sha256=abf74bd688e5e34481d08733e72a74004b794037a609b40ddb65a728e4faeca3\n",
      "  Stored in directory: c:\\users\\javier_orduzducuara\\appdata\\local\\pip\\cache\\wheels\\2e\\ec\\79\\a968af26500a5a026cac475a7de4e6bf0b3d0068cff5e582be\n",
      "Successfully built discopy\n",
      "Installing collected packages: langcodes, catalogue, srsly, wasabi, spacy-loggers, murmurhash, blis, typer, cymem, pydantic, preshed, thinc, spacy-legacy, smart-open, pathy, spacy, torch, sacremoses, tokenizers, huggingface-hub, transformers, types-pkg-resources, lark-parser, pytket, discopy, lambeq\n",
      "Successfully installed blis-0.7.7 catalogue-2.0.7 cymem-2.0.6 discopy-0.4.1 huggingface-hub-0.4.0 lambeq-0.2.0 langcodes-3.3.0 lark-parser-0.12.0 murmurhash-1.0.6 pathy-0.6.1 preshed-3.0.6 pydantic-1.8.2 pytket-1.0.1 sacremoses-0.0.49 smart-open-5.2.1 spacy-3.2.4 spacy-legacy-3.0.9 spacy-loggers-1.0.2 srsly-2.4.2 thinc-8.0.15 tokenizers-0.11.6 torch-1.11.0 transformers-4.17.0 typer-0.4.1 types-pkg-resources-0.1.3 wasabi-0.9.1\n"
     ]
    },
    {
     "name": "stderr",
     "output_type": "stream",
     "text": [
      "ERROR: After October 2020 you may experience errors when installing or updating packages. This is because pip will change the way that it resolves dependency conflicts.\n",
      "\n",
      "We recommend you use --use-feature=2020-resolver to test your packages with the new resolver before it becomes the default.\n",
      "\n",
      "huggingface-hub 0.4.0 requires packaging>=20.9, but you'll have packaging 20.4 which is incompatible.\n",
      "pytket 1.0.1 requires jinja2~=3.0, but you'll have jinja2 2.11.2 which is incompatible.\n",
      "pytket 1.0.1 requires numpy<2.0,>=1.21.4, but you'll have numpy 1.19.2 which is incompatible.\n",
      "pytket 1.0.1 requires scipy<2.0,>=1.7.2, but you'll have scipy 1.5.2 which is incompatible.\n"
     ]
    }
   ],
   "source": [
    "!pip install lambeq"
   ]
  },
  {
   "cell_type": "code",
   "execution_count": 2,
   "metadata": {},
   "outputs": [
    {
     "name": "stdout",
     "output_type": "stream",
     "text": [
      "Requirement already satisfied: lambeq[extras] in c:\\users\\javier_orduzducuara\\anaconda3\\lib\\site-packages (0.2.0)\n",
      "Requirement already satisfied: tensornetwork in c:\\users\\javier_orduzducuara\\anaconda3\\lib\\site-packages (from lambeq[extras]) (0.3.0)\n",
      "Requirement already satisfied: pytket>=0.19.2 in c:\\users\\javier_orduzducuara\\anaconda3\\lib\\site-packages (from lambeq[extras]) (1.0.1)\n",
      "Requirement already satisfied: torch>=1.10.1 in c:\\users\\javier_orduzducuara\\anaconda3\\lib\\site-packages (from lambeq[extras]) (1.11.0)\n",
      "Requirement already satisfied: transformers in c:\\users\\javier_orduzducuara\\anaconda3\\lib\\site-packages (from lambeq[extras]) (4.17.0)\n",
      "Requirement already satisfied: spacy>=3.0 in c:\\users\\javier_orduzducuara\\anaconda3\\lib\\site-packages (from lambeq[extras]) (3.2.4)\n",
      "Requirement already satisfied: discopy>=0.4.1 in c:\\users\\javier_orduzducuara\\anaconda3\\lib\\site-packages (from lambeq[extras]) (0.4.1)\n",
      "Requirement already satisfied: pyyaml in c:\\users\\javier_orduzducuara\\anaconda3\\lib\\site-packages (from lambeq[extras]) (5.3.1)\n"
     ]
    },
    {
     "name": "stderr",
     "output_type": "stream",
     "text": [
      "ERROR: Could not find a version that satisfies the requirement jaxlib; extra == \"extras\" (from lambeq[extras]) (from versions: none)\n",
      "ERROR: No matching distribution found for jaxlib; extra == \"extras\" (from lambeq[extras])\n"
     ]
    }
   ],
   "source": [
    "!pip install lambeq[extras]"
   ]
  },
  {
   "cell_type": "code",
   "execution_count": 5,
   "metadata": {},
   "outputs": [
    {
     "name": "stdout",
     "output_type": "stream",
     "text": [
      "Requirement already satisfied: cython in c:\\users\\javier_orduzducuara\\anaconda3\\lib\\site-packages (0.29.21)\n",
      "Requirement already satisfied: numpy in c:\\users\\javier_orduzducuara\\anaconda3\\lib\\site-packages (1.19.2)\n",
      "Collecting depccg\n",
      "  Downloading depccg-2.0.3.2.tar.gz (3.5 MB)\n"
     ]
    },
    {
     "name": "stderr",
     "output_type": "stream",
     "text": [
      "    ERROR: Command errored out with exit status 1:\n",
      "     command: 'C:\\Users\\Javier_OrduzDucuara\\Anaconda3\\python.exe' -c 'import sys, setuptools, tokenize; sys.argv[0] = '\"'\"'C:\\\\Users\\\\Javier_OrduzDucuara\\\\AppData\\\\Local\\\\Temp\\\\pip-install-q47tpl9o\\\\depccg\\\\setup.py'\"'\"'; __file__='\"'\"'C:\\\\Users\\\\Javier_OrduzDucuara\\\\AppData\\\\Local\\\\Temp\\\\pip-install-q47tpl9o\\\\depccg\\\\setup.py'\"'\"';f=getattr(tokenize, '\"'\"'open'\"'\"', open)(__file__);code=f.read().replace('\"'\"'\\r\\n'\"'\"', '\"'\"'\\n'\"'\"');f.close();exec(compile(code, __file__, '\"'\"'exec'\"'\"'))' egg_info --egg-base 'C:\\Users\\Javier_OrduzDucuara\\AppData\\Local\\Temp\\pip-pip-egg-info-ld157gt8'\n",
      "         cwd: C:\\Users\\Javier_OrduzDucuara\\AppData\\Local\\Temp\\pip-install-q47tpl9o\\depccg\\\n",
      "    Complete output (10 lines):\n",
      "    cc -g -fpic -Wall -O3 -c -MMD -MP morpha.c\n",
      "    make: cc: Command not found\n",
      "    make: *** [morpha.o] Error 127\n",
      "    Traceback (most recent call last):\n",
      "      File \"<string>\", line 1, in <module>\n",
      "      File \"C:\\Users\\Javier_OrduzDucuara\\AppData\\Local\\Temp\\pip-install-q47tpl9o\\depccg\\setup.py\", line 105, in <module>\n",
      "        generate_cpp([])\n",
      "      File \"C:\\Users\\Javier_OrduzDucuara\\AppData\\Local\\Temp\\pip-install-q47tpl9o\\depccg\\setup.py\", line 64, in generate_cpp\n",
      "        raise RuntimeError('Running cythonize failed')\n",
      "    RuntimeError: Running cythonize failed\n",
      "    ----------------------------------------\n",
      "ERROR: Command errored out with exit status 1: python setup.py egg_info Check the logs for full command output.\n"
     ]
    }
   ],
   "source": [
    "!pip install cython numpy depccg\n"
   ]
  },
  {
   "cell_type": "code",
   "execution_count": null,
   "metadata": {},
   "outputs": [],
   "source": []
  }
 ],
 "metadata": {
  "interpreter": {
   "hash": "7c32c5fc060a5d969a9e6984a425ac506ea058eb5394817798833a898b6d3b9a"
  },
  "kernelspec": {
   "display_name": "Python 3.8.5 ('base')",
   "language": "python",
   "name": "python3"
  },
  "language_info": {
   "codemirror_mode": {
    "name": "ipython",
    "version": 3
   },
   "file_extension": ".py",
   "mimetype": "text/x-python",
   "name": "python",
   "nbconvert_exporter": "python",
   "pygments_lexer": "ipython3",
   "version": "3.8.5"
  },
  "orig_nbformat": 4
 },
 "nbformat": 4,
 "nbformat_minor": 2
}
