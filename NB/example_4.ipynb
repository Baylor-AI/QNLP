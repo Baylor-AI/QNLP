{
 "cells": [
  {
   "cell_type": "markdown",
   "metadata": {},
   "source": [
    "# Drawing Grammatical Structure\n",
    "## By: Javier Orduz\n",
    "\n",
    "\n",
    "\n",
    "1. [References](#packages)\n",
    "1. [References](#references)\n",
    "1. [Things to install](#install)\n"
   ]
  },
  {
   "cell_type": "markdown",
   "metadata": {},
   "source": [
    "So far we’ve learnt how to draw diagrams of cooking recipes and how to evaluate quantum circuits. Now we’re gonna see that diagrams can represent **grammatical structure.** \n",
    "The basic ingredients are grammatical types: ```n``` for noun, ```s``` for sentence, etc. Each ingredient has left and right adjoints ```n.l``` and ```n.r``` which represent a missing noun on the right and left respectively. For example, the type for intransitive verbs ```n.r @ s``` reads “take a noun on your left and give a sentence”.\n",
    "\n",
    "The cooking steps are of two kinds: words and cups. Words have no inputs, they output their own grammatical type. Cups have no outputs, they take as inputs two types ```left``` and ```right``` that cancel each other, i.e. such that ```left.r == right```. The recipe for a sentence goes in three steps:\n",
    "\n",
    "1. Tensor the word boxes together.\n",
    "1. Compose with cups and identities.\n",
    "1. Once there is only the sentence type s left, you parsed the sentence!"
   ]
  },
  {
   "cell_type": "code",
   "execution_count": 2,
   "metadata": {},
   "outputs": [
    {
     "data": {
      "image/png": "[encoded data removed]",
      "text/plain": [
       "<Figure size 576x360 with 1 Axes>"
      ]
     },
     "metadata": {
      "needs_background": "light"
     },
     "output_type": "display_data"
    }
   ],
   "source": [
    "from discopy import Ty, Id, Word, Cup, pregroup\n",
    "\n",
    "n, s = Ty('n'), Ty('s')\n",
    "\n",
    "Alice = Word(\"Alice\", n)\n",
    "loves = Word(\"loves\", n.r @ s @ n.l)\n",
    "Bob = Word(\"Bob\", n)\n",
    "\n",
    "grammar = Cup(n, n.r) @ Id(s) @ Cup(n.l, n)\n",
    "\n",
    "sentence = Alice @ loves @ Bob >> grammar\n",
    "pregroup.draw(sentence, figsize=(8, 5))"
   ]
  },
  {
   "cell_type": "markdown",
   "metadata": {},
   "source": [
    "Note that although in this tutorial we draw all our diagram by hand, this parsing process can be automated. Indeed once you fix a **dictionary**, i.e. a set of words with their possible grammatical types, it is completely mechanical to decide whether a sequence of words is grammatical. More precisely, it takes $\\mathcal{O}(n^3)$ time to decide whether \n",
    "a sequence of length $n$ is a sentence, and to output the diagram for its grammatical structure.\n",
    "\n",
    "Such a dictionary is called a **pregroup grammar,** introduced by Lambek in 1999 and has been used to study the syntax of English, French, Persian and a dozen of other natural languages. Note that pregroup grammars are as expressive as the better known **context-free grammar**, where the diagrams are called syntax trees."
   ]
  },
  {
   "cell_type": "markdown",
   "metadata": {},
   "source": [
    "# Package versions<a name=\"packages\"></a>"
   ]
  },
  {
   "cell_type": "code",
   "execution_count": null,
   "metadata": {},
   "outputs": [],
   "source": [
    "from platform import python_version\n",
    "import pytket\n",
    "import qiskit\n",
    "\n",
    "print(\"python version: \", python_version())\n",
    "print(\"pytket version: \", pytket.__version__)\n",
    "print(\"qiskit version: \", qiskit.__version__)"
   ]
  },
  {
   "cell_type": "markdown",
   "metadata": {},
   "source": [
    "# Bibliography<a name=\"references\"></a>"
   ]
  },
  {
   "cell_type": "markdown",
   "metadata": {},
   "source": [
    "[1] [Discopy](https://github.com/oxford-quantum-group/discopy)\n",
    "\n",
    "[2] [QNLP tutorial](https://discopy.readthedocs.io/en/main/notebooks/qnlp-tutorial.html)"
   ]
  },
  {
   "cell_type": "markdown",
   "metadata": {},
   "source": [
    "<!--\n",
    "# Things to install<a name=\"install\"></a>\n",
    "\n",
    "Nest lines seem needed.\n",
    "\n",
    "\n",
    "```python\n",
    "!pip install pytket-qiskit \n",
    "!pip install pytket \n",
    "!pip install qiskit \n",
    "!pip3 install pytket-pyzx\n",
    "```\n",
    "-->"
   ]
  }
 ],
 "metadata": {
  "interpreter": {
   "hash": "7c32c5fc060a5d969a9e6984a425ac506ea058eb5394817798833a898b6d3b9a"
  },
  "kernelspec": {
   "display_name": "Python 3.8.5 ('base')",
   "language": "python",
   "name": "python3"
  },
  "language_info": {
   "codemirror_mode": {
    "name": "ipython",
    "version": 3
   },
   "file_extension": ".py",
   "mimetype": "text/x-python",
   "name": "python",
   "nbconvert_exporter": "python",
   "pygments_lexer": "ipython3",
   "version": "3.8.5"
  },
  "orig_nbformat": 4
 },
 "nbformat": 4,
 "nbformat_minor": 2
}
